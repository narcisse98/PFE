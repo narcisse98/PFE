{
 "cells": [
  {
   "cell_type": "code",
   "execution_count": 1,
   "id": "692fea12",
   "metadata": {},
   "outputs": [],
   "source": [
    "import numpy as np\n",
    "import pandas as pd\n",
    "import matplotlib.pyplot as plt"
   ]
  },
  {
   "cell_type": "code",
   "execution_count": 2,
   "id": "13e40650",
   "metadata": {},
   "outputs": [],
   "source": [
    "import numpy.polynomial.polynomial as poly"
   ]
  },
  {
   "cell_type": "code",
   "execution_count": 3,
   "id": "2674e962",
   "metadata": {},
   "outputs": [],
   "source": [
    "from numpyarray_to_latex.jupyter import to_jup\n",
    "from numpyarray_to_latex import to_ltx\n",
    "\n",
    "\n",
    "\n",
    "from matplotlib.pyplot import figure"
   ]
  },
  {
   "cell_type": "code",
   "execution_count": 4,
   "id": "606a282d",
   "metadata": {},
   "outputs": [],
   "source": [
    "from numpy.polynomial import Polynomial"
   ]
  },
  {
   "cell_type": "code",
   "execution_count": 5,
   "id": "5c899f31",
   "metadata": {},
   "outputs": [],
   "source": [
    "r=0.1\n",
    "f  = np.exp(-r)\n",
    "\n"
   ]
  },
  {
   "cell_type": "code",
   "execution_count": 6,
   "id": "6a1cb7a8",
   "metadata": {},
   "outputs": [],
   "source": [
    "def regression(X,Y,deg):\n",
    "    z = np.linspace(-3000,3000)\n",
    "    coefs = poly.polyfit(X, Y, deg)\n",
    "    ffit = poly.polyval(z, coefs)\n",
    "    plt.plot(z, ffit)\n",
    "    plt.scatter(X,Y)\n",
    "    plt.show()\n",
    "    return coefs\n",
    "    "
   ]
  },
  {
   "cell_type": "code",
   "execution_count": 7,
   "id": "f9158f4a",
   "metadata": {},
   "outputs": [],
   "source": [
    "# t=2"
   ]
  },
  {
   "cell_type": "code",
   "execution_count": 8,
   "id": "392e2ca2",
   "metadata": {},
   "outputs": [],
   "source": [
    "Y=np.array((11*f,35*f))\n",
    "X= np.array((50,50))"
   ]
  },
  {
   "cell_type": "code",
   "execution_count": 9,
   "id": "db295275",
   "metadata": {},
   "outputs": [
    {
     "name": "stderr",
     "output_type": "stream",
     "text": [
      "c:\\users\\administrator\\appdata\\local\\programs\\python\\python39\\lib\\site-packages\\IPython\\core\\interactiveshell.py:3398: RankWarning: Polyfit may be poorly conditioned\n",
      "  exec(code_obj, self.user_global_ns, self.user_ns)\n"
     ]
    },
    {
     "data": {
      "text/plain": [
       "array([2.77483475e-03, 1.38741737e-01, 6.93708687e+00])"
      ]
     },
     "execution_count": 9,
     "metadata": {},
     "output_type": "execute_result"
    }
   ],
   "source": [
    "Z=np.polyfit(X,Y,2)\n",
    "Z"
   ]
  },
  {
   "cell_type": "code",
   "execution_count": 10,
   "id": "805a75c0",
   "metadata": {},
   "outputs": [
    {
     "name": "stderr",
     "output_type": "stream",
     "text": [
      "c:\\users\\administrator\\appdata\\local\\programs\\python\\python39\\lib\\site-packages\\numpy\\polynomial\\polynomial.py:1362: RankWarning: The fit may be poorly conditioned\n",
      "  return pu._fit(polyvander, x, y, deg, rcond, full, w)\n"
     ]
    },
    {
     "data": {
      "image/png": "[encoded data removed]",
      "text/plain": [
       "<Figure size 432x288 with 1 Axes>"
      ]
     },
     "metadata": {
      "needs_background": "light"
     },
     "output_type": "display_data"
    }
   ],
   "source": [
    "z = np.linspace(-300,300)\n",
    "coefs = poly.polyfit(X, Y, 2)\n",
    "ffit = poly.polyval(z, coefs)\n",
    "plt.plot(z, ffit)\n",
    "\n",
    "plt.show()"
   ]
  },
  {
   "cell_type": "code",
   "execution_count": 11,
   "id": "d2434396",
   "metadata": {},
   "outputs": [],
   "source": [
    "#val \n",
    "def f_test(x):\n",
    "    return -1.070+2.983*x-1.813*x**2\n"
   ]
  },
  {
   "cell_type": "code",
   "execution_count": 12,
   "id": "07a6bbd9",
   "metadata": {},
   "outputs": [
    {
     "data": {
      "text/plain": [
       "20.811260614827074"
      ]
     },
     "execution_count": 12,
     "metadata": {},
     "output_type": "execute_result"
    }
   ],
   "source": [
    "def continuation(x,coefs):\n",
    "    ffit = poly.polyval(x, coefs)\n",
    "    return ffit\n",
    "continuation(50,coefs)\n",
    "    "
   ]
  },
  {
   "cell_type": "code",
   "execution_count": 13,
   "id": "9f86207f",
   "metadata": {},
   "outputs": [],
   "source": [
    "# t=1\n"
   ]
  },
  {
   "cell_type": "code",
   "execution_count": 14,
   "id": "0979df88",
   "metadata": {},
   "outputs": [
    {
     "name": "stdout",
     "output_type": "stream",
     "text": [
      "X: [ 0.          0.         22.62093545 22.62093545]\n",
      "Y: [64 64 64 64]\n"
     ]
    }
   ],
   "source": [
    "X=np.array([0*f,0*f,25*f,25*f])\n",
    "Y= np.array([64 for i in range(4)])\n",
    "print('X:',X)\n",
    "print('Y:',Y)"
   ]
  },
  {
   "cell_type": "code",
   "execution_count": 15,
   "id": "bb9f3e91",
   "metadata": {},
   "outputs": [
    {
     "name": "stderr",
     "output_type": "stream",
     "text": [
      "c:\\users\\administrator\\appdata\\local\\programs\\python\\python39\\lib\\site-packages\\numpy\\polynomial\\polynomial.py:1362: RankWarning: The fit may be poorly conditioned\n",
      "  return pu._fit(polyvander, x, y, deg, rcond, full, w)\n"
     ]
    },
    {
     "data": {
      "image/png": "[encoded data removed]",
      "text/plain": [
       "<Figure size 432x288 with 1 Axes>"
      ]
     },
     "metadata": {
      "needs_background": "light"
     },
     "output_type": "display_data"
    },
    {
     "data": {
      "text/plain": [
       "array([ 6.40000000e+01, -3.40336899e-16, -1.50452177e-17])"
      ]
     },
     "execution_count": 15,
     "metadata": {},
     "output_type": "execute_result"
    }
   ],
   "source": [
    "regression(X,Y,2)"
   ]
  },
  {
   "cell_type": "code",
   "execution_count": 16,
   "id": "3a753019",
   "metadata": {},
   "outputs": [],
   "source": [
    "# ls en tant discret:\n",
    "T= 3 # l'intervalle de temps\n",
    "N=8 # nombre de chemin \n",
    "K = 75 #  le strike\n",
    "\n",
    "S = np.array([[80,100,125,150],\n",
    "             [80,100,125,100],\n",
    "             [80,100,80,100],\n",
    "              [80,100,80,64],\n",
    "              [80,64,80,100],\n",
    "              [80,64,80,64],\n",
    "              [80,64,50,64],\n",
    "              [80,64,50,40]])"
   ]
  },
  {
   "cell_type": "code",
   "execution_count": 17,
   "id": "9c96463f",
   "metadata": {},
   "outputs": [
    {
     "data": {
      "text/latex": [
       "$\\displaystyle \\left(\n",
       "\\begin{array}{}\n",
       "   80.00 &  100.00 &  125.00 &  150.00\\\\\n",
       "   80.00 &  100.00 &  125.00 &  100.00\\\\\n",
       "   80.00 &  100.00 &   80.00 &  100.00\\\\\n",
       "   80.00 &  100.00 &   80.00 &   64.00\\\\\n",
       "   80.00 &   64.00 &   80.00 &  100.00\\\\\n",
       "   80.00 &   64.00 &   80.00 &   64.00\\\\\n",
       "   80.00 &   64.00 &   50.00 &   64.00\\\\\n",
       "   80.00 &   64.00 &   50.00 &   40.00\n",
       "\\end{array}\n",
       "\\right)$"
      ],
      "text/plain": [
       "<IPython.core.display.Math object>"
      ]
     },
     "metadata": {},
     "output_type": "display_data"
    }
   ],
   "source": [
    "to_jup(S)"
   ]
  },
  {
   "cell_type": "code",
   "execution_count": 18,
   "id": "257f3d72",
   "metadata": {},
   "outputs": [],
   "source": [
    "# Cahs flow matrice à t=3"
   ]
  },
  {
   "cell_type": "code",
   "execution_count": 19,
   "id": "3e258cf0",
   "metadata": {},
   "outputs": [],
   "source": [
    "CS = np.zeros((N,T+1))\n",
    "for t in range(T+1):\n",
    "    \n",
    "    CS[:,t] = [max(K-s,0) for s in S[:,t] ]\n",
    "\n"
   ]
  },
  {
   "cell_type": "code",
   "execution_count": 20,
   "id": "3cdf193b",
   "metadata": {},
   "outputs": [
    {
     "data": {
      "text/latex": [
       "$\\displaystyle \\left(\n",
       "\\begin{array}{}\n",
       "    0.00 &    0.00 &    0.00 &    0.00\\\\\n",
       "    0.00 &    0.00 &    0.00 &    0.00\\\\\n",
       "    0.00 &    0.00 &    0.00 &    0.00\\\\\n",
       "    0.00 &    0.00 &    0.00 &   11.00\\\\\n",
       "    0.00 &   11.00 &    0.00 &    0.00\\\\\n",
       "    0.00 &   11.00 &    0.00 &   11.00\\\\\n",
       "    0.00 &   11.00 &   25.00 &   11.00\\\\\n",
       "    0.00 &   11.00 &   25.00 &   35.00\n",
       "\\end{array}\n",
       "\\right)$"
      ],
      "text/plain": [
       "<IPython.core.display.Math object>"
      ]
     },
     "metadata": {},
     "output_type": "display_data"
    }
   ],
   "source": [
    "to_jup(CS)"
   ]
  },
  {
   "cell_type": "code",
   "execution_count": 21,
   "id": "b69d825a",
   "metadata": {},
   "outputs": [
    {
     "data": {
      "text/latex": [
       "$\\displaystyle \\require{color}\n",
       "\\left(\n",
       "\\begin{array}{}\n",
       "    0.00 &  125.00\\\\\n",
       "    0.00 &  125.00\\\\\n",
       "    0.00 &   80.00\\\\\n",
       "    9.95 &   80.00\\\\\n",
       "    0.00 &   80.00\\\\\n",
       "    9.95 &   80.00\\\\\n",
       " \\colorbox{pink}{$   9.95$}   & \\colorbox{pink}{$  50.00$}  \\\\\n",
       " \\colorbox{pink}{$  31.67$}   & \\colorbox{pink}{$  50.00$}  \n",
       "\\end{array}\n",
       "\\right)$"
      ],
      "text/plain": [
       "<IPython.core.display.Math object>"
      ]
     },
     "metadata": {},
     "output_type": "display_data"
    }
   ],
   "source": [
    "X = S[:,2]\n",
    "Y= f*CS[:,3]\n",
    "Z = np.array((Y,X)).T\n",
    "to_jup(Z,\n",
    "      mark_elements=[(6,0),(7,0),(6,1),(7,1)])"
   ]
  },
  {
   "cell_type": "code",
   "execution_count": 22,
   "id": "737240fa",
   "metadata": {},
   "outputs": [
    {
     "data": {
      "text/latex": [
       "$\\displaystyle \\left(\n",
       "\\begin{array}{}\n",
       "    9.95 &   50.00\\\\\n",
       "   31.67 &   50.00\n",
       "\\end{array}\n",
       "\\right)$"
      ],
      "text/plain": [
       "<IPython.core.display.Math object>"
      ]
     },
     "metadata": {},
     "output_type": "display_data"
    }
   ],
   "source": [
    "# calcul de l'espérance de continuation à t=2\n",
    "\n",
    "condition = np.maximum(K - Z[:, 1], 0) > 0\n",
    "Z[condition]\n",
    "Z_r = Z[condition]\n",
    "to_jup(Z_r)"
   ]
  },
  {
   "cell_type": "markdown",
   "id": "8e3d9776",
   "metadata": {},
   "source": [
    "on cherche a, b, et c tels que \n",
    "E[Y/X] = aX**2+bX+C\n",
    "\n",
    "par regression linéaire on a"
   ]
  },
  {
   "cell_type": "code",
   "execution_count": 23,
   "id": "5a76e415",
   "metadata": {},
   "outputs": [
    {
     "data": {
      "text/latex": [
       "$\\displaystyle \\left(\n",
       "\\begin{array}{}\n",
       "   50.00 &   50.00\n",
       "\\end{array}\n",
       "\\right)$"
      ],
      "text/plain": [
       "<IPython.core.display.Math object>"
      ]
     },
     "metadata": {},
     "output_type": "display_data"
    }
   ],
   "source": [
    "to_jup(Z_r.T[1])"
   ]
  },
  {
   "cell_type": "code",
   "execution_count": 24,
   "id": "807d3995",
   "metadata": {},
   "outputs": [
    {
     "name": "stderr",
     "output_type": "stream",
     "text": [
      "c:\\users\\administrator\\appdata\\local\\programs\\python\\python39\\lib\\site-packages\\numpy\\polynomial\\polynomial.py:1362: RankWarning: The fit may be poorly conditioned\n",
      "  return pu._fit(polyvander, x, y, deg, rcond, full, w)\n"
     ]
    },
    {
     "data": {
      "image/png": "[encoded data removed]",
      "text/plain": [
       "<Figure size 432x288 with 1 Axes>"
      ]
     },
     "metadata": {
      "needs_background": "light"
     },
     "output_type": "display_data"
    }
   ],
   "source": [
    "coefs = regression(Z_r.T[1],Z_r.T[0],2)"
   ]
  },
  {
   "cell_type": "code",
   "execution_count": 25,
   "id": "3be1d5d0",
   "metadata": {},
   "outputs": [
    {
     "name": "stdout",
     "output_type": "stream",
     "text": [
      "\\left(\n",
      "\\begin{array}{}\n",
      "  6.9371 &  0.1387 &  0.0028\n",
      "\\end{array}\n",
      "\\right)\n"
     ]
    }
   ],
   "source": [
    "print(to_ltx(coefs))"
   ]
  },
  {
   "cell_type": "code",
   "execution_count": null,
   "id": "50895722",
   "metadata": {},
   "outputs": [],
   "source": []
  },
  {
   "cell_type": "code",
   "execution_count": 26,
   "id": "59f70cd7",
   "metadata": {},
   "outputs": [
    {
     "data": {
      "text/latex": [
       "$\\displaystyle \\left(\n",
       "\\begin{array}{}\n",
       "    0.00 &    0.00\\\\\n",
       "    0.00 &    0.00\\\\\n",
       "    0.00 &    0.00\\\\\n",
       "    0.00 &    0.00\\\\\n",
       "    0.00 &    0.00\\\\\n",
       "    0.00 &    0.00\\\\\n",
       "   25.00 &   20.81\\\\\n",
       "   25.00 &   20.81\n",
       "\\end{array}\n",
       "\\right)$"
      ],
      "text/plain": [
       "<IPython.core.display.Math object>"
      ]
     },
     "metadata": {},
     "output_type": "display_data"
    }
   ],
   "source": [
    "OE2 = np.zeros((N,2))\n",
    "OE2[:,0] = CS[:,2]\n",
    "OE2[:,1] = [continuation(x,coefs)  if max(K-x,0)>0  else 0 for x in S[:,2] ]\n",
    "to_jup(OE2)"
   ]
  },
  {
   "cell_type": "markdown",
   "id": "d7bd3fe9",
   "metadata": {},
   "source": [
    "on obtien la cash flow matrice  à  t=2"
   ]
  },
  {
   "cell_type": "code",
   "execution_count": 27,
   "id": "defdaed1",
   "metadata": {},
   "outputs": [
    {
     "data": {
      "text/latex": [
       "$\\displaystyle \\left(\n",
       "\\begin{array}{}\n",
       "    0.00 &    0.00 &    0.00\\\\\n",
       "    0.00 &    0.00 &    0.00\\\\\n",
       "    0.00 &    0.00 &    0.00\\\\\n",
       "    0.00 &    0.00 &   11.00\\\\\n",
       "    0.00 &    0.00 &    0.00\\\\\n",
       "    0.00 &    0.00 &   11.00\\\\\n",
       "    0.00 &   25.00 &    0.00\\\\\n",
       "    0.00 &   25.00 &    0.00\n",
       "\\end{array}\n",
       "\\right)$"
      ],
      "text/plain": [
       "<IPython.core.display.Math object>"
      ]
     },
     "metadata": {},
     "output_type": "display_data"
    }
   ],
   "source": [
    "CS2 = np.zeros((N,T))\n",
    "CS2[:,1] =  np.where(OE2[:, 0] > OE2[:, 1], OE2[:, 0], 0)\n",
    "CS2[:,2] =  np.where(CS2[:,1]>0, 0, CS[:,3])\n",
    "to_jup(CS2)"
   ]
  },
  {
   "cell_type": "code",
   "execution_count": 28,
   "id": "5111a703",
   "metadata": {},
   "outputs": [
    {
     "data": {
      "text/plain": [
       "9.953211598395555"
      ]
     },
     "execution_count": 28,
     "metadata": {},
     "output_type": "execute_result"
    }
   ],
   "source": [
    "11*f\n"
   ]
  },
  {
   "cell_type": "code",
   "execution_count": 29,
   "id": "f9d1637c",
   "metadata": {},
   "outputs": [
    {
     "data": {
      "text/latex": [
       "$\\displaystyle \\require{color}\n",
       "\\left(\n",
       "\\begin{array}{}\n",
       "    0.00 &  100.00\\\\\n",
       "    0.00 &  100.00\\\\\n",
       "    0.00 &  100.00\\\\\n",
       "    0.00 &  100.00\\\\\n",
       " \\colorbox{pink}{$   0.00$}   & \\colorbox{pink}{$  64.00$}  \\\\\n",
       " \\colorbox{pink}{$   0.00$}   & \\colorbox{pink}{$  64.00$}  \\\\\n",
       " \\colorbox{pink}{$  22.62$}   & \\colorbox{pink}{$  64.00$}  \\\\\n",
       " \\colorbox{pink}{$  22.62$}   & \\colorbox{pink}{$  64.00$}  \n",
       "\\end{array}\n",
       "\\right)$"
      ],
      "text/plain": [
       "<IPython.core.display.Math object>"
      ]
     },
     "metadata": {},
     "output_type": "display_data"
    }
   ],
   "source": [
    "# regression à T=1\n",
    "X = S[:,1]\n",
    "Y= f*CS2[:,1]\n",
    "Z = np.array((Y,X)).T\n",
    "to_jup(Z,mark_elements=[(4,0),(4,1),(5,0),(5,1),(6,0),(6,1),(7,0),(7,1)])"
   ]
  },
  {
   "cell_type": "code",
   "execution_count": 30,
   "id": "4e8bb5ea",
   "metadata": {},
   "outputs": [
    {
     "data": {
      "text/latex": [
       "$\\displaystyle \\left(\n",
       "\\begin{array}{}\n",
       "    0.00 &   64.00\\\\\n",
       "    0.00 &   64.00\\\\\n",
       "   22.62 &   64.00\\\\\n",
       "   22.62 &   64.00\n",
       "\\end{array}\n",
       "\\right)$"
      ],
      "text/plain": [
       "<IPython.core.display.Math object>"
      ]
     },
     "metadata": {},
     "output_type": "display_data"
    }
   ],
   "source": [
    "# calculde l'esperance de continuation  à t=1\n",
    "condition = np.maximum(K - Z[:, 1], 0) > 0\n",
    "Z[condition]\n",
    "Z_r = Z[condition]\n",
    "to_jup(Z_r)"
   ]
  },
  {
   "cell_type": "markdown",
   "id": "b5c9600d",
   "metadata": {},
   "source": [
    "on cherche a, b, et c tels que E[Y/X] = aX**2+bX+C\n",
    "\n",
    "par regression linéaire on a"
   ]
  },
  {
   "cell_type": "code",
   "execution_count": 31,
   "id": "35fb81aa",
   "metadata": {},
   "outputs": [
    {
     "name": "stderr",
     "output_type": "stream",
     "text": [
      "c:\\users\\administrator\\appdata\\local\\programs\\python\\python39\\lib\\site-packages\\numpy\\polynomial\\polynomial.py:1362: RankWarning: The fit may be poorly conditioned\n",
      "  return pu._fit(polyvander, x, y, deg, rcond, full, w)\n"
     ]
    },
    {
     "data": {
      "image/png": "[encoded data removed]",
      "text/plain": [
       "<Figure size 432x288 with 1 Axes>"
      ]
     },
     "metadata": {
      "needs_background": "light"
     },
     "output_type": "display_data"
    }
   ],
   "source": [
    "coefs = regression(Z_r.T[1],Z_r.T[0],2)"
   ]
  },
  {
   "cell_type": "code",
   "execution_count": 32,
   "id": "f6246cc2",
   "metadata": {},
   "outputs": [
    {
     "data": {
      "text/latex": [
       "$\\displaystyle \\left(\n",
       "\\begin{array}{}\n",
       "    3.77 &    0.06 &    0.00\n",
       "\\end{array}\n",
       "\\right)$"
      ],
      "text/plain": [
       "<IPython.core.display.Math object>"
      ]
     },
     "metadata": {},
     "output_type": "display_data"
    }
   ],
   "source": [
    "to_jup(coefs.T)"
   ]
  },
  {
   "cell_type": "code",
   "execution_count": 33,
   "id": "f63ca5a4",
   "metadata": {},
   "outputs": [
    {
     "data": {
      "text/latex": [
       "$\\displaystyle \\left(\n",
       "\\begin{array}{}\n",
       "    0.00 &    0.00\\\\\n",
       "    0.00 &    0.00\\\\\n",
       "    0.00 &    0.00\\\\\n",
       "    0.00 &    0.00\\\\\n",
       "   11.00 &   11.31\\\\\n",
       "   11.00 &   11.31\\\\\n",
       "   11.00 &   11.31\\\\\n",
       "   11.00 &   11.31\n",
       "\\end{array}\n",
       "\\right)$"
      ],
      "text/plain": [
       "<IPython.core.display.Math object>"
      ]
     },
     "metadata": {},
     "output_type": "display_data"
    }
   ],
   "source": [
    "OE1 = np.zeros((N,2))\n",
    "OE1[:,0] = CS[:,1]\n",
    "OE1[:,1] = [continuation(x,coefs)  if max(K-x,0)>0  else 0 for x in S[:,1] ]\n",
    "to_jup(OE1)"
   ]
  },
  {
   "cell_type": "code",
   "execution_count": 34,
   "id": "0726c542",
   "metadata": {},
   "outputs": [
    {
     "data": {
      "text/latex": [
       "$\\displaystyle \\left(\n",
       "\\begin{array}{}\n",
       "    0.00 &    0.00 &    0.00\\\\\n",
       "    0.00 &    0.00 &    0.00\\\\\n",
       "    0.00 &    0.00 &    0.00\\\\\n",
       "    0.00 &    0.00 &    0.00\\\\\n",
       "    0.00 &    0.00 &    0.00\\\\\n",
       "    0.00 &    0.00 &    0.00\\\\\n",
       "    0.00 &   25.00 &    0.00\\\\\n",
       "    0.00 &   25.00 &    0.00\n",
       "\\end{array}\n",
       "\\right)$"
      ],
      "text/plain": [
       "<IPython.core.display.Math object>"
      ]
     },
     "metadata": {},
     "output_type": "display_data"
    }
   ],
   "source": [
    "CS3 = np.zeros((N,T))\n",
    "CS3[:,0] =  np.where(OE1[:, 0] > OE1[:, 1], OE1[:, 0], 0)\n",
    "CS3[:,1] =  np.where(CS3[:, 0] > 0, 0, CS[:,2])\n",
    "CS2[:,2] =  np.where(CS2[:,2]>0, 0, CS[:,3])\n",
    "to_jup(CS3)"
   ]
  },
  {
   "cell_type": "code",
   "execution_count": 35,
   "id": "8590f32a",
   "metadata": {},
   "outputs": [
    {
     "data": {
      "text/latex": [
       "$\\displaystyle \\left(\n",
       "\\begin{array}{}\n",
       "    0.00 &    0.00 &    0.00\\\\\n",
       "    0.00 &    0.00 &    0.00\\\\\n",
       "    0.00 &    0.00 &    0.00\\\\\n",
       "    0.00 &    0.00 &    0.00\\\\\n",
       "    0.00 &    0.00 &    0.00\\\\\n",
       "    0.00 &    0.00 &    0.00\\\\\n",
       "    0.00 &   20.47 &    0.00\\\\\n",
       "    0.00 &   20.47 &    0.00\n",
       "\\end{array}\n",
       "\\right)$"
      ],
      "text/plain": [
       "<IPython.core.display.Math object>"
      ]
     },
     "metadata": {},
     "output_type": "display_data"
    }
   ],
   "source": [
    "CS3_actu = np.array([CS3[:,0]*f,CS3[:,1]*f**2,CS3[:,2]*f**3]).T\n",
    "to_jup(CS3_actu)"
   ]
  },
  {
   "cell_type": "code",
   "execution_count": 36,
   "id": "3757dc16",
   "metadata": {},
   "outputs": [],
   "source": [
    "price = np.sum(CS3_actu,axis=1).sum()/N"
   ]
  },
  {
   "cell_type": "code",
   "execution_count": 37,
   "id": "52510189",
   "metadata": {},
   "outputs": [
    {
     "data": {
      "text/plain": [
       "5.655233862724747"
      ]
     },
     "execution_count": 37,
     "metadata": {},
     "output_type": "execute_result"
    }
   ],
   "source": [
    "np.sum(CS3,axis=1).sum()/N*f"
   ]
  },
  {
   "cell_type": "code",
   "execution_count": 38,
   "id": "46c65915",
   "metadata": {},
   "outputs": [
    {
     "name": "stdout",
     "output_type": "stream",
     "text": [
      "price =  5.117067206737386\n"
     ]
    }
   ],
   "source": [
    "print('price = ', price)"
   ]
  },
  {
   "cell_type": "code",
   "execution_count": 39,
   "id": "b0839189",
   "metadata": {},
   "outputs": [
    {
     "data": {
      "text/latex": [
       "$\\displaystyle \\left(\n",
       "\\begin{array}{}\n",
       "    0.09 &    1.00\\\\\n",
       "    0.20 &    0.92\\\\\n",
       "    0.00 &    0.84\\\\\n",
       "    0.00 &    1.01\n",
       "\\end{array}\n",
       "\\right)$"
      ],
      "text/plain": [
       "<IPython.core.display.Math object>"
      ]
     },
     "metadata": {},
     "output_type": "display_data"
    },
    {
     "name": "stdout",
     "output_type": "stream",
     "text": [
      "Regression coefficients\n"
     ]
    },
    {
     "data": {
      "text/latex": [
       "$\\displaystyle \\left(\n",
       "\\begin{array}{}\n",
       " -22.68 &   49.34 & -26.60\n",
       "\\end{array}\n",
       "\\right)$"
      ],
      "text/plain": [
       "<IPython.core.display.Math object>"
      ]
     },
     "metadata": {},
     "output_type": "display_data"
    },
    {
     "name": "stdout",
     "output_type": "stream",
     "text": [
      "6\n"
     ]
    },
    {
     "data": {
      "text/latex": [
       "$\\displaystyle \\left(\n",
       "\\begin{array}{}\n",
       "    0.08 &    1.00\\\\\n",
       "    0.17 &    0.76\\\\\n",
       "    0.22 &    0.77\\\\\n",
       "    0.08 &    0.90\n",
       "\\end{array}\n",
       "\\right)$"
      ],
      "text/plain": [
       "<IPython.core.display.Math object>"
      ]
     },
     "metadata": {},
     "output_type": "display_data"
    },
    {
     "name": "stdout",
     "output_type": "stream",
     "text": [
      "Regression coefficients\n"
     ]
    },
    {
     "data": {
      "text/latex": [
       "$\\displaystyle \\left(\n",
       "\\begin{array}{}\n",
       "    3.23 &  -6.67 &    3.52\n",
       "\\end{array}\n",
       "\\right)$"
      ],
      "text/plain": [
       "<IPython.core.display.Math object>"
      ]
     },
     "metadata": {},
     "output_type": "display_data"
    },
    {
     "name": "stdout",
     "output_type": "stream",
     "text": [
      "5\n"
     ]
    },
    {
     "data": {
      "text/latex": [
       "$\\displaystyle \\left(\n",
       "\\begin{array}{}\n",
       "    0.08 &    1.00\\\\\n",
       "    0.27 &    1.11\\\\\n",
       "    0.26 &    1.56\\\\\n",
       "    0.16 &    1.52\n",
       "\\end{array}\n",
       "\\right)$"
      ],
      "text/plain": [
       "<IPython.core.display.Math object>"
      ]
     },
     "metadata": {},
     "output_type": "display_data"
    },
    {
     "name": "stdout",
     "output_type": "stream",
     "text": [
      "Regression coefficients\n"
     ]
    },
    {
     "data": {
      "text/latex": [
       "$\\displaystyle \\left(\n",
       "\\begin{array}{}\n",
       "  -3.74 &    6.20 &  -2.36\n",
       "\\end{array}\n",
       "\\right)$"
      ],
      "text/plain": [
       "<IPython.core.display.Math object>"
      ]
     },
     "metadata": {},
     "output_type": "display_data"
    },
    {
     "name": "stdout",
     "output_type": "stream",
     "text": [
      "4\n"
     ]
    },
    {
     "data": {
      "text/latex": [
       "$\\displaystyle \\left(\n",
       "\\begin{array}{}\n",
       "    0.07 &    1.00\\\\\n",
       "    0.17 &    0.93\\\\\n",
       "    0.14 &    0.97\\\\\n",
       "    0.17 &    0.92\n",
       "\\end{array}\n",
       "\\right)$"
      ],
      "text/plain": [
       "<IPython.core.display.Math object>"
      ]
     },
     "metadata": {},
     "output_type": "display_data"
    },
    {
     "name": "stdout",
     "output_type": "stream",
     "text": [
      "Regression coefficients\n"
     ]
    },
    {
     "data": {
      "text/latex": [
       "$\\displaystyle \\left(\n",
       "\\begin{array}{}\n",
       " -17.67 &   38.37 & -20.63\n",
       "\\end{array}\n",
       "\\right)$"
      ],
      "text/plain": [
       "<IPython.core.display.Math object>"
      ]
     },
     "metadata": {},
     "output_type": "display_data"
    },
    {
     "name": "stdout",
     "output_type": "stream",
     "text": [
      "3\n"
     ]
    },
    {
     "data": {
      "text/latex": [
       "$\\displaystyle \\left(\n",
       "\\begin{array}{}\n",
       "    0.07 &    1.00\\\\\n",
       "    0.12 &    1.22\\\\\n",
       "    0.10 &    1.07\\\\\n",
       "    0.13 &    1.03\n",
       "\\end{array}\n",
       "\\right)$"
      ],
      "text/plain": [
       "<IPython.core.display.Math object>"
      ]
     },
     "metadata": {},
     "output_type": "display_data"
    },
    {
     "name": "stdout",
     "output_type": "stream",
     "text": [
      "Regression coefficients\n"
     ]
    },
    {
     "data": {
      "text/latex": [
       "$\\displaystyle \\left(\n",
       "\\begin{array}{}\n",
       "  -2.27 &    4.14 &  -1.79\n",
       "\\end{array}\n",
       "\\right)$"
      ],
      "text/plain": [
       "<IPython.core.display.Math object>"
      ]
     },
     "metadata": {},
     "output_type": "display_data"
    },
    {
     "name": "stdout",
     "output_type": "stream",
     "text": [
      "2\n"
     ]
    },
    {
     "data": {
      "text/latex": [
       "$\\displaystyle \\left(\n",
       "\\begin{array}{}\n",
       "    0.07 &    1.00\\\\\n",
       "    0.08 &    1.16\\\\\n",
       "    0.07 &    1.26\\\\\n",
       "    0.06 &    1.54\n",
       "\\end{array}\n",
       "\\right)$"
      ],
      "text/plain": [
       "<IPython.core.display.Math object>"
      ]
     },
     "metadata": {},
     "output_type": "display_data"
    },
    {
     "name": "stdout",
     "output_type": "stream",
     "text": [
      "Regression coefficients\n"
     ]
    },
    {
     "data": {
      "text/latex": [
       "$\\displaystyle \\left(\n",
       "\\begin{array}{}\n",
       "  -0.19 &    0.43 &  -0.17\n",
       "\\end{array}\n",
       "\\right)$"
      ],
      "text/plain": [
       "<IPython.core.display.Math object>"
      ]
     },
     "metadata": {},
     "output_type": "display_data"
    },
    {
     "name": "stdout",
     "output_type": "stream",
     "text": [
      "1\n"
     ]
    },
    {
     "data": {
      "text/latex": [
       "$\\displaystyle \\left(\n",
       "\\begin{array}{}\n",
       "    0.06 &    1.00\\\\\n",
       "    0.05 &    1.09\\\\\n",
       "    0.05 &    1.08\\\\\n",
       "    0.04 &    1.34\n",
       "\\end{array}\n",
       "\\right)$"
      ],
      "text/plain": [
       "<IPython.core.display.Math object>"
      ]
     },
     "metadata": {},
     "output_type": "display_data"
    },
    {
     "name": "stdout",
     "output_type": "stream",
     "text": [
      "Regression coefficients\n"
     ]
    },
    {
     "data": {
      "text/latex": [
       "$\\displaystyle \\left(\n",
       "\\begin{array}{}\n",
       "    0.66 &  -1.00 &    0.40\n",
       "\\end{array}\n",
       "\\right)$"
      ],
      "text/plain": [
       "<IPython.core.display.Math object>"
      ]
     },
     "metadata": {},
     "output_type": "display_data"
    },
    {
     "name": "stdout",
     "output_type": "stream",
     "text": [
      "0\n",
      "Estimated option value: 0.03638837389272912\n"
     ]
    }
   ],
   "source": [
    "r=6/100\n",
    "#T=3\n",
    "\n",
    "S = np.array([[80, 100, 125, 150],\n",
    "              [80, 100, 125, 100],\n",
    "              [80, 100, 80, 100],\n",
    "              [80, 100, 80, 64],\n",
    "              [80, 64, 80, 100],\n",
    "              [80, 64, 80, 64],\n",
    "              [80, 64, 50, 64],\n",
    "              [80, 64, 50, 40]])\n",
    "\n",
    "\n",
    "S = np.array([[1, 1.09, 1.08, 1.34],\n",
    "              [1, 1.16, 1.26, 1.54],\n",
    "              [1, 1.22, 1.07, 1.03],\n",
    "              [1, 0.93, 0.97, 0.92],\n",
    "              [1, 1.11, 1.56, 1.52],\n",
    "              [1, 0.76, 0.77, 0.90],\n",
    "              [1, 0.92, 0.84, 1.01],\n",
    "              [1, 0.88, 1.22, 1.34]]).T\n",
    "\n",
    "T = S.shape[1]  # Number of time steps\n",
    "N = S.shape[0]  # Number of paths\n",
    "\n",
    "# Step 1: Define the option payoff function\n",
    "def option_payoff(S):\n",
    "    return np.maximum(1.10 - S, 0)\n",
    "\n",
    "# Step 2: Perform backward induction\n",
    "V = option_payoff(S[:, -1])  # Initialize option values at maturity\n",
    "\n",
    "for t in range(T - 2, -1, -1):\n",
    "    X = S[:, t]  # Current prices\n",
    "    Y = V * np.exp(-r*(T-t))  # Discounted future values\n",
    "    to_jup(np.array((Y,X)).T)\n",
    "    basis_functions = np.column_stack((np.ones(N), X, X ** 2))  # Basis functions for regression\n",
    "    coefficients = np.linalg.lstsq(basis_functions, Y, rcond=None)[0]  # Regression coefficients\n",
    "    print(\"Regression coefficients\")\n",
    "    to_jup(coefficients)\n",
    "    continuation_value = basis_functions.dot(coefficients)  # Estimated continuation value\n",
    "    exercise_value = option_payoff(X)  # Option payoff at current prices\n",
    "    V = np.maximum(continuation_value, exercise_value)  # Update option values\n",
    "    \n",
    "    print(t)\n",
    "\n",
    "# Step 3: Calculate the present value\n",
    "PV = np.mean(V) * np.exp(-r * T)\n",
    "#PV = np.sum(V,axis=1).sum()/N\n",
    "print(\"Estimated option value:\", PV)\n"
   ]
  },
  {
   "cell_type": "code",
   "execution_count": 40,
   "id": "015f10bb",
   "metadata": {},
   "outputs": [
    {
     "data": {
      "text/plain": [
       "'S = np.array([[1, 1.09, 1.08, 1.34],\\n              [1, 1.16, 1.26, 1.54],\\n              [1, 1.22, 1.07, 1.03],\\n              [1, 0.93, 0.97, 0.92],\\n              [1, 1.11, 1.56, 1.52],\\n              [1, 0.76, 0.77, 0.90],\\n              [1, 0.92, 0.84, 1.01],\\n              [1, 0.88, 1.22, 1.34]]).T\\n\\n\\n\\nT = S.shape[1]  # Number of time steps\\nN = S.shape[0]  # Number of paths\\n\\nr = 6/100  # Interest rate\\n\\n# Step 1: Define the option payoff function\\ndef option_payoff(S):\\n    return np.maximum(1.10 - S, 0)\\n\\n# Step 2: Perform backward induction\\nV = option_payoff(S[:, -1])  # Initialize option values at maturity\\n\\nfor t in range(T - 2, -1, -1):\\n    X = S[V > 0, t]  # Stock prices at time t for paths where option is in the money\\n    Y = V[V > 0] * np.exp(-r)  # Discounted future values for in-the-money paths\\n    to_jup(np.array((Y,X)).T)\\n    basis_functions = np.column_stack((np.ones(X.shape[0]), X, X ** 2))  # Basis functions for regression\\n    print(basis_functions)\\n    coefficients = np.linalg.lstsq(basis_functions, Y, rcond=None)[0]  # Regression coefficients\\n    print(\"Regression coefficients\")\\n    to_jup(coefficients)\\n    continuation_value = basis_functions.dot(coefficients)  # Estimated continuation value\\n    print(\"continuation_value\")\\n    print(continuation_value)\\n    exercise_value = option_payoff(X)  # Option payoff at current prices\\n    V[V > 0] = np.maximum(continuation_value, exercise_value)  # Update option values for in-the-money paths\\n\\n# Step 3: Calculate the present value\\nPV = np.mean(V) * np.exp(-r * T)\\nprint(\"Estimated option value:\", PV)\\n'"
      ]
     },
     "execution_count": 40,
     "metadata": {},
     "output_type": "execute_result"
    }
   ],
   "source": [
    "#kd\n",
    "\"\"\"S = np.array([[1, 1.09, 1.08, 1.34],\n",
    "              [1, 1.16, 1.26, 1.54],\n",
    "              [1, 1.22, 1.07, 1.03],\n",
    "              [1, 0.93, 0.97, 0.92],\n",
    "              [1, 1.11, 1.56, 1.52],\n",
    "              [1, 0.76, 0.77, 0.90],\n",
    "              [1, 0.92, 0.84, 1.01],\n",
    "              [1, 0.88, 1.22, 1.34]]).T\n",
    "\n",
    "\n",
    "\n",
    "T = S.shape[1]  # Number of time steps\n",
    "N = S.shape[0]  # Number of paths\n",
    "\n",
    "r = 6/100  # Interest rate\n",
    "\n",
    "# Step 1: Define the option payoff function\n",
    "def option_payoff(S):\n",
    "    return np.maximum(1.10 - S, 0)\n",
    "\n",
    "# Step 2: Perform backward induction\n",
    "V = option_payoff(S[:, -1])  # Initialize option values at maturity\n",
    "\n",
    "for t in range(T - 2, -1, -1):\n",
    "    X = S[V > 0, t]  # Stock prices at time t for paths where option is in the money\n",
    "    Y = V[V > 0] * np.exp(-r)  # Discounted future values for in-the-money paths\n",
    "    to_jup(np.array((Y,X)).T)\n",
    "    basis_functions = np.column_stack((np.ones(X.shape[0]), X, X ** 2))  # Basis functions for regression\n",
    "    print(basis_functions)\n",
    "    coefficients = np.linalg.lstsq(basis_functions, Y, rcond=None)[0]  # Regression coefficients\n",
    "    print(\"Regression coefficients\")\n",
    "    to_jup(coefficients)\n",
    "    continuation_value = basis_functions.dot(coefficients)  # Estimated continuation value\n",
    "    print(\"continuation_value\")\n",
    "    print(continuation_value)\n",
    "    exercise_value = option_payoff(X)  # Option payoff at current prices\n",
    "    V[V > 0] = np.maximum(continuation_value, exercise_value)  # Update option values for in-the-money paths\n",
    "\n",
    "# Step 3: Calculate the present value\n",
    "PV = np.mean(V) * np.exp(-r * T)\n",
    "print(\"Estimated option value:\", PV)\n",
    "\"\"\"\n",
    "#kd"
   ]
  },
  {
   "cell_type": "code",
   "execution_count": 41,
   "id": "d3bac1a3",
   "metadata": {},
   "outputs": [
    {
     "name": "stdout",
     "output_type": "stream",
     "text": [
      "(4, 8)\n"
     ]
    },
    {
     "data": {
      "text/plain": [
       "(4, 8)"
      ]
     },
     "execution_count": 41,
     "metadata": {},
     "output_type": "execute_result"
    }
   ],
   "source": [
    "r=0.1\n",
    "X = np.array(\n",
    "    [\n",
    "        [1.00, 1.09, 1.08, 1.34],\n",
    "        [1.00, 1.16, 1.26, 1.54],\n",
    "        [1.00, 1.22, 1.07, 1.03],\n",
    "        [1.00, 0.93, 0.97, 0.92],\n",
    "        [1.00, 1.11, 1.56, 1.52],\n",
    "        [1.00, 0.76, 0.77, 0.90],\n",
    "        [1.00, 0.92, 0.84, 1.01],\n",
    "        [1.00, 0.88, 1.22, 1.34],\n",
    "    ]\n",
    ").T\n",
    "\n",
    "print(X.shape)\n",
    "\n",
    "X= np.array([\n",
    "              [80, 100, 125, 150],\n",
    "              [80, 100, 125, 100],\n",
    "              [80, 100, 80, 100],\n",
    "              [80, 100, 80, 64],\n",
    "              [80, 64, 80, 100],\n",
    "              [80, 64, 80, 64],\n",
    "              [80, 64, 50, 64],\n",
    "              [80, 64, 50, 40]\n",
    "        ]\n",
    ").T\n",
    "\n",
    "X.shape\n"
   ]
  },
  {
   "cell_type": "code",
   "execution_count": 42,
   "id": "f6c80a2c",
   "metadata": {},
   "outputs": [],
   "source": [
    "def exercise_value(s):\n",
    "    return np.maximum(K - s, 0)"
   ]
  },
  {
   "cell_type": "code",
   "execution_count": 43,
   "id": "da9871d8",
   "metadata": {},
   "outputs": [],
   "source": [
    "def fit(x, y):\n",
    "    return Polynomial.fit(x, y, 2)"
   ]
  },
  {
   "cell_type": "code",
   "execution_count": 44,
   "id": "9db55578",
   "metadata": {},
   "outputs": [],
   "source": [
    "# code MIT\n",
    "\n",
    "def backward_regression(fit, exercise_value, X, r):\n",
    "    df = np.exp(-r)\n",
    "    cashflow = exercise_value(X[-1, :])\n",
    "    for i in reversed(range(1, X.shape[0] - 1)):\n",
    "        cashflow = cashflow * df\n",
    "        x = X[i, :]\n",
    "        itm = exercise_value(x) > 0\n",
    "        to_jup(np.array((x[itm], cashflow[itm])).T)\n",
    "        \n",
    "        coefs = poly.polyfit(x[itm], cashflow[itm], deg=2)\n",
    "        print('coefs : ')\n",
    "        to_jup(coefs)\n",
    "        ffit = poly.polyval(x, coefs)\n",
    "        #fitted = fit(x[itm], cashflow[itm])\n",
    "        exercise = exercise_value(x)\n",
    "        #continuation = fitted(x)\n",
    "        continuation = ffit\n",
    "        to_jup(continuation.T)\n",
    "        \n",
    "        ex_idx = itm & (exercise > continuation)\n",
    "        cashflow[ex_idx] = exercise[ex_idx]\n",
    "        \n",
    "        yield cashflow, x, ffit, continuation, exercise, ex_idx"
   ]
  },
  {
   "cell_type": "code",
   "execution_count": 45,
   "id": "75ce9169",
   "metadata": {},
   "outputs": [
    {
     "data": {
      "text/latex": [
       "$\\displaystyle \\left(\n",
       "\\begin{array}{}\n",
       "   50.00 &    9.95\\\\\n",
       "   50.00 &   31.67\n",
       "\\end{array}\n",
       "\\right)$"
      ],
      "text/plain": [
       "<IPython.core.display.Math object>"
      ]
     },
     "metadata": {},
     "output_type": "display_data"
    },
    {
     "name": "stdout",
     "output_type": "stream",
     "text": [
      "coefs : \n"
     ]
    },
    {
     "name": "stderr",
     "output_type": "stream",
     "text": [
      "c:\\users\\administrator\\appdata\\local\\programs\\python\\python39\\lib\\site-packages\\numpy\\polynomial\\polynomial.py:1362: RankWarning: The fit may be poorly conditioned\n",
      "  return pu._fit(polyvander, x, y, deg, rcond, full, w)\n"
     ]
    },
    {
     "data": {
      "text/latex": [
       "$\\displaystyle \\left(\n",
       "\\begin{array}{}\n",
       "    6.94 &    0.14 &    0.00\n",
       "\\end{array}\n",
       "\\right)$"
      ],
      "text/plain": [
       "<IPython.core.display.Math object>"
      ]
     },
     "metadata": {},
     "output_type": "display_data"
    },
    {
     "data": {
      "text/latex": [
       "$\\displaystyle \\left(\n",
       "\\begin{array}{}\n",
       "   67.64 &   67.64 &   35.80 &   35.80 &   35.80 &   35.80 &   20.81 &   20.81\n",
       "\\end{array}\n",
       "\\right)$"
      ],
      "text/plain": [
       "<IPython.core.display.Math object>"
      ]
     },
     "metadata": {},
     "output_type": "display_data"
    },
    {
     "data": {
      "text/latex": [
       "$\\displaystyle \\left(\n",
       "\\begin{array}{}\n",
       "   64.00 &    0.00\\\\\n",
       "   64.00 &    9.01\\\\\n",
       "   64.00 &   22.62\\\\\n",
       "   64.00 &   22.62\n",
       "\\end{array}\n",
       "\\right)$"
      ],
      "text/plain": [
       "<IPython.core.display.Math object>"
      ]
     },
     "metadata": {},
     "output_type": "display_data"
    },
    {
     "name": "stdout",
     "output_type": "stream",
     "text": [
      "coefs : \n"
     ]
    },
    {
     "data": {
      "text/latex": [
       "$\\displaystyle \\left(\n",
       "\\begin{array}{}\n",
       "    4.52 &    0.07 &    0.00\n",
       "\\end{array}\n",
       "\\right)$"
      ],
      "text/plain": [
       "<IPython.core.display.Math object>"
      ]
     },
     "metadata": {},
     "output_type": "display_data"
    },
    {
     "data": {
      "text/latex": [
       "$\\displaystyle \\left(\n",
       "\\begin{array}{}\n",
       "   22.62 &   22.62 &   22.62 &   22.62 &   13.56 &   13.56 &   13.56 &   13.56\n",
       "\\end{array}\n",
       "\\right)$"
      ],
      "text/plain": [
       "<IPython.core.display.Math object>"
      ]
     },
     "metadata": {},
     "output_type": "display_data"
    }
   ],
   "source": [
    "bw_regr_steps = list(backward_regression(fit, exercise_value, X, r))"
   ]
  },
  {
   "cell_type": "code",
   "execution_count": 46,
   "id": "1e6949af",
   "metadata": {},
   "outputs": [
    {
     "data": {
      "text/latex": [
       "$\\displaystyle \\left(\n",
       "\\begin{array}{}\n",
       "   50.00 &    9.95\\\\\n",
       "   50.00 &   31.67\n",
       "\\end{array}\n",
       "\\right)$"
      ],
      "text/plain": [
       "<IPython.core.display.Math object>"
      ]
     },
     "metadata": {},
     "output_type": "display_data"
    },
    {
     "name": "stdout",
     "output_type": "stream",
     "text": [
      "coefs : \n"
     ]
    },
    {
     "data": {
      "text/latex": [
       "$\\displaystyle \\left(\n",
       "\\begin{array}{}\n",
       "    6.94 &    0.14 &    0.00\n",
       "\\end{array}\n",
       "\\right)$"
      ],
      "text/plain": [
       "<IPython.core.display.Math object>"
      ]
     },
     "metadata": {},
     "output_type": "display_data"
    },
    {
     "data": {
      "text/latex": [
       "$\\displaystyle \\left(\n",
       "\\begin{array}{}\n",
       "   67.64 &   67.64 &   35.80 &   35.80 &   35.80 &   35.80 &   20.81 &   20.81\n",
       "\\end{array}\n",
       "\\right)$"
      ],
      "text/plain": [
       "<IPython.core.display.Math object>"
      ]
     },
     "metadata": {},
     "output_type": "display_data"
    },
    {
     "name": "stdout",
     "output_type": "stream",
     "text": [
      "Regression at t = 2:\n",
      "[67.6366 67.6366 35.7954 35.7954 35.7954 35.7954 20.8113 20.8113]\n",
      "[False False False False False False  True  True]\n",
      "[ 0.     0.     0.     9.953  0.     9.953 25.    25.   ]\n"
     ]
    },
    {
     "data": {
      "text/latex": [
       "$\\displaystyle \\left(\n",
       "\\begin{array}{}\n",
       "   64.00 &    0.00\\\\\n",
       "   64.00 &    9.01\\\\\n",
       "   64.00 &   22.62\\\\\n",
       "   64.00 &   22.62\n",
       "\\end{array}\n",
       "\\right)$"
      ],
      "text/plain": [
       "<IPython.core.display.Math object>"
      ]
     },
     "metadata": {},
     "output_type": "display_data"
    },
    {
     "name": "stdout",
     "output_type": "stream",
     "text": [
      "coefs : \n"
     ]
    },
    {
     "data": {
      "text/latex": [
       "$\\displaystyle \\left(\n",
       "\\begin{array}{}\n",
       "    4.52 &    0.07 &    0.00\n",
       "\\end{array}\n",
       "\\right)$"
      ],
      "text/plain": [
       "<IPython.core.display.Math object>"
      ]
     },
     "metadata": {},
     "output_type": "display_data"
    },
    {
     "data": {
      "text/latex": [
       "$\\displaystyle \\left(\n",
       "\\begin{array}{}\n",
       "   22.62 &   22.62 &   22.62 &   22.62 &   13.56 &   13.56 &   13.56 &   13.56\n",
       "\\end{array}\n",
       "\\right)$"
      ],
      "text/plain": [
       "<IPython.core.display.Math object>"
      ]
     },
     "metadata": {},
     "output_type": "display_data"
    },
    {
     "name": "stdout",
     "output_type": "stream",
     "text": [
      "Regression at t = 1:\n",
      "[22.621 22.621 22.621 22.621 13.562 13.562 13.562 13.562]\n",
      "[False False False False False False False False]\n",
      "[ 0.     0.     0.     9.006  0.     9.006 22.621 22.621]\n"
     ]
    }
   ],
   "source": [
    "t = X.shape[0] - 2\n",
    "for cashflow, x, fitted, continuation, exercise, ex_idx in backward_regression(\n",
    "    fit, exercise_value, X, r\n",
    "):\n",
    "    print(f\"Regression at t = {t}:\")\n",
    "    #print(np.round(fitted.convert(domain=[-1, 1]).coef, 3))\n",
    "    print(np.round(continuation, 4))\n",
    "    print(ex_idx)\n",
    "    print(np.round(cashflow, 3))\n",
    "    \n",
    "    t = t - 1"
   ]
  },
  {
   "cell_type": "code",
   "execution_count": 47,
   "id": "cd51e944",
   "metadata": {},
   "outputs": [
    {
     "name": "stdout",
     "output_type": "stream",
     "text": [
      "7.1543\n",
      "6.297\n"
     ]
    }
   ],
   "source": [
    "assert np.average(cashflow) * np.exp(-r) >= np.average(\n",
    "    exercise_value(X[-1, :]) * np.exp(-3 * r)\n",
    ")\n",
    "\n",
    "print(np.round(np.average(cashflow) * np.exp(-r), 4))\n",
    "print(np.round(np.average(exercise_value(X[-1, :])) * np.exp(-3 * r), 4))"
   ]
  },
  {
   "cell_type": "code",
   "execution_count": 48,
   "id": "4bbcd951",
   "metadata": {},
   "outputs": [
    {
     "data": {
      "text/plain": [
       "array([ 80, 100, 125, 150])"
      ]
     },
     "execution_count": 48,
     "metadata": {},
     "output_type": "execute_result"
    }
   ],
   "source": [
    "S= np.array([\n",
    "              [80, 100, 125, 150],\n",
    "              [80, 100, 125, 100],\n",
    "              [80, 100, 80, 100],\n",
    "              [80, 100, 80, 64],\n",
    "              [80, 64, 80, 100],\n",
    "              [80, 64, 80, 64],\n",
    "              [80, 64, 50, 64],\n",
    "              [80, 64, 50, 40]\n",
    "        ]\n",
    ").T\n",
    "S\n",
    "S[:,0]"
   ]
  },
  {
   "cell_type": "code",
   "execution_count": null,
   "id": "4290d9d5",
   "metadata": {},
   "outputs": [],
   "source": []
  },
  {
   "cell_type": "code",
   "execution_count": 49,
   "id": "c57beec1",
   "metadata": {},
   "outputs": [
    {
     "data": {
      "image/png": "[encoded data removed]",
      "text/plain": [
       "<Figure size 640x480 with 1 Axes>"
      ]
     },
     "metadata": {
      "needs_background": "light"
     },
     "output_type": "display_data"
    }
   ],
   "source": [
    "figure(figsize=(8, 6), dpi=80)\n",
    "t = np.linspace(0, 3, 4)\n",
    "#plt.plot(t,S)\n",
    "plt.plot(t,S[:,0],label='Path 1')\n",
    "plt.plot(t,S[:,1],label='Path 2')\n",
    "plt.plot(t,S[:,2],label='Path 3')\n",
    "plt.plot(t,S[:,3],label='Path 4')\n",
    "plt.plot(t,S[:,4],label='Path 5')\n",
    "plt.plot(t,S[:,5],label='Path 6')\n",
    "plt.plot(t,S[:,6],label='Path 7')\n",
    "plt.plot(t,S[:,7],label='Path 8')\n",
    "plt.title(\"Trajectoire de l'actif risqué \")\n",
    "\n",
    "plt.legend()\n",
    "plt.show()"
   ]
  },
  {
   "cell_type": "code",
   "execution_count": 50,
   "id": "1a6c0ec1",
   "metadata": {},
   "outputs": [
    {
     "data": {
      "text/plain": [
       "array([[ 80,  80,  80,  80,  80,  80,  80,  80],\n",
       "       [100, 100, 100, 100,  64,  64,  64,  64],\n",
       "       [125, 125,  80,  80,  80,  80,  50,  50],\n",
       "       [150, 100, 100,  64, 100,  64,  64,  40]])"
      ]
     },
     "execution_count": 50,
     "metadata": {},
     "output_type": "execute_result"
    }
   ],
   "source": [
    "S"
   ]
  },
  {
   "cell_type": "code",
   "execution_count": 51,
   "id": "747717c1",
   "metadata": {},
   "outputs": [
    {
     "data": {
      "text/plain": [
       "array([ 0.        ,  0.        , 22.62093545, 22.62093545])"
      ]
     },
     "execution_count": 51,
     "metadata": {},
     "output_type": "execute_result"
    }
   ],
   "source": [
    "Z_r.T[0]"
   ]
  },
  {
   "cell_type": "code",
   "execution_count": 56,
   "id": "fac7289b",
   "metadata": {},
   "outputs": [
    {
     "data": {
      "text/plain": [
       "0.1144343300450569"
      ]
     },
     "execution_count": 56,
     "metadata": {},
     "output_type": "execute_result"
    }
   ],
   "source": [
    "((0.17+0.34+0.18+0.22)*np.exp(-6/100)+0.07*np.exp(-3*6/100))/8\n"
   ]
  },
  {
   "cell_type": "code",
   "execution_count": 58,
   "id": "c468f5cd",
   "metadata": {},
   "outputs": [
    {
     "data": {
      "text/plain": [
       "7.154317313612111"
      ]
     },
     "execution_count": 58,
     "metadata": {},
     "output_type": "execute_result"
    }
   ],
   "source": [
    "(2*11*np.exp(-0.1*3) +2*25*np.exp(-0.1*2))/8"
   ]
  },
  {
   "cell_type": "code",
   "execution_count": 53,
   "id": "fb5d4488",
   "metadata": {},
   "outputs": [
    {
     "data": {
      "text/plain": [
       "11.004838851023132"
      ]
     },
     "execution_count": 53,
     "metadata": {},
     "output_type": "execute_result"
    }
   ],
   "source": [
    "9.01/f**2"
   ]
  },
  {
   "cell_type": "code",
   "execution_count": 54,
   "id": "c05f8245",
   "metadata": {},
   "outputs": [
    {
     "ename": "SyntaxError",
     "evalue": "unexpected character after line continuation character (4290760724.py, line 1)",
     "output_type": "error",
     "traceback": [
      "\u001b[1;36m  Input \u001b[1;32mIn [54]\u001b[1;36m\u001b[0m\n\u001b[1;33m    \\begin{equation}\u001b[0m\n\u001b[1;37m                   ^\u001b[0m\n\u001b[1;31mSyntaxError\u001b[0m\u001b[1;31m:\u001b[0m unexpected character after line continuation character\n"
     ]
    }
   ],
   "source": [
    "\\begin{equation}\n",
    "\\left(\\begin{array}{llll}\n",
    "- & - & 0.00 & 0.00 \\\\\n",
    "- & - & 0.00 & 0.00 \\\\\n",
    "- & - & 0.00 & 0.00 \\\\\n",
    "- & - & 0.00 & 11.00 \\\\\n",
    "- & - & 0.00 & 0.00 \\\\\n",
    "- & - & 0.00 & 11.00 \\\\\n",
    "- & - & 25.00 & 11.00 \\\\\n",
    "- & - & 25.00 & 35.00\n",
    "\\end{array}\\right)\n",
    "\\end{equation}"
   ]
  },
  {
   "cell_type": "code",
   "execution_count": null,
   "id": "3889ac10",
   "metadata": {},
   "outputs": [],
   "source": []
  }
 ],
 "metadata": {
  "kernelspec": {
   "display_name": "Python 3 (ipykernel)",
   "language": "python",
   "name": "python3"
  },
  "language_info": {
   "codemirror_mode": {
    "name": "ipython",
    "version": 3
   },
   "file_extension": ".py",
   "mimetype": "text/x-python",
   "name": "python",
   "nbconvert_exporter": "python",
   "pygments_lexer": "ipython3",
   "version": "3.9.5"
  }
 },
 "nbformat": 4,
 "nbformat_minor": 5
}
