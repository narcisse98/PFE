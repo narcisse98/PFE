{
 "cells": [
  {
   "cell_type": "code",
   "execution_count": 2,
   "id": "19619148",
   "metadata": {},
   "outputs": [],
   "source": [
    "import numpy as np\n",
    "import pandas as pd\n",
    "import matplotlib.pyplot as plt"
   ]
  },
  {
   "cell_type": "code",
   "execution_count": null,
   "id": "702197fb",
   "metadata": {},
   "outputs": [],
   "source": [
    "from numpy import np.ex"
   ]
  },
  {
   "cell_type": "code",
   "execution_count": 7,
   "id": "65022ad7",
   "metadata": {},
   "outputs": [],
   "source": [
    "r=0.1\n",
    "f  = np.exp(-r)\n",
    "X=np.array((11*f,35*f))\n",
    "Y= np.array((50,50))"
   ]
  },
  {
   "cell_type": "code",
   "execution_count": 10,
   "id": "d30c8063",
   "metadata": {},
   "outputs": [
    {
     "name": "stderr",
     "output_type": "stream",
     "text": [
      "c:\\users\\administrator\\appdata\\local\\programs\\python\\python39\\lib\\site-packages\\IPython\\core\\interactiveshell.py:3398: RankWarning: Polyfit may be poorly conditioned\n",
      "  exec(code_obj, self.user_global_ns, self.user_ns)\n"
     ]
    }
   ],
   "source": [
    "Z=np.polyfit(X,Y,2)"
   ]
  },
  {
   "cell_type": "code",
   "execution_count": null,
   "id": "3d99c2cb",
   "metadata": {},
   "outputs": [],
   "source": [
    "z = np.linspace(-10,10)\n",
    "\n",
    "plt.plot()"
   ]
  }
 ],
 "metadata": {
  "kernelspec": {
   "display_name": "Python 3 (ipykernel)",
   "language": "python",
   "name": "python3"
  },
  "language_info": {
   "codemirror_mode": {
    "name": "ipython",
    "version": 3
   },
   "file_extension": ".py",
   "mimetype": "text/x-python",
   "name": "python",
   "nbconvert_exporter": "python",
   "pygments_lexer": "ipython3",
   "version": "3.9.5"
  }
 },
 "nbformat": 4,
 "nbformat_minor": 5
}
